{
 "cells": [
  {
   "cell_type": "markdown",
   "metadata": {},
   "source": [
    "## Lab\n",
    "\n",
    "1. Write a function to make a google maps api directions request. \n",
    "     1. The function should take in 3 parameters: origin, destination, api_key\n",
    "2. Choose another API such as the one below and make 3 calls.\n",
    "\n",
    "#### More APIs to Checkout <a id=\"apis\"></a>\n",
    "\n",
    "* Google Maps\n",
    "* Twitter\n",
    "* AWS\n",
    "* IBM's Watson"
   ]
  },
  {
   "cell_type": "markdown",
   "metadata": {},
   "source": [
    "## Question 1\n",
    "\n",
    "1. Write a function to make a google maps api directions request. \n",
    "     1. The function should take in 3 parameters: origin, destination, api_key\n",
    "     \n",
    "\n",
    "Check out the documentation here:\n",
    "https://developers.google.com/maps/documentation/directions/start"
   ]
  },
  {
   "cell_type": "code",
   "execution_count": null,
   "metadata": {},
   "outputs": [],
   "source": [
    "import requests\n",
    "\n",
    "#Starter code snippet\n",
    "url = 'https://maps.googleapis.com/maps/api/directions/json?origin=Disneyland&destination=Universal+Studios+Hollywood4&key=YOUR_API_KEY'\n",
    "response = requests.get(url)\n",
    "\n",
    "def get_google_directions(input_variable1, input_variable2, etc.):\n",
    "    \"\"\"Your code goes here. Well, outside the comments section if you want it to do anything.\"\"\"\n",
    "    return Whatever your function returns...maybe nothing"
   ]
  },
  {
   "cell_type": "markdown",
   "metadata": {},
   "source": [
    "## Question 2\n",
    "2. Choose another API such as the one below and make 3 calls.\n"
   ]
  },
  {
   "cell_type": "code",
   "execution_count": null,
   "metadata": {},
   "outputs": [],
   "source": []
  }
 ],
 "metadata": {
  "kernelspec": {
   "display_name": "Python 3",
   "language": "python",
   "name": "python3"
  },
  "language_info": {
   "codemirror_mode": {
    "name": "ipython",
    "version": 3
   },
   "file_extension": ".py",
   "mimetype": "text/x-python",
   "name": "python",
   "nbconvert_exporter": "python",
   "pygments_lexer": "ipython3",
   "version": "3.6.4"
  }
 },
 "nbformat": 4,
 "nbformat_minor": 2
}
